{
 "cells": [
  {
   "cell_type": "code",
   "execution_count": 2,
   "metadata": {},
   "outputs": [],
   "source": [
    "# from pathlib import Path\n",
    "# Path('theatre.db').touch()"
   ]
  },
  {
   "cell_type": "code",
   "execution_count": 2,
   "metadata": {},
   "outputs": [],
   "source": [
    "import sqlite3\n",
    "conn = sqlite3.connect('theatre.db')\n",
    "c = conn.cursor()"
   ]
  },
  {
   "cell_type": "code",
   "execution_count": 15,
   "metadata": {},
   "outputs": [
    {
     "data": {
      "text/plain": [
       "<sqlite3.Cursor at 0x15fe7e2b880>"
      ]
     },
     "execution_count": 15,
     "metadata": {},
     "output_type": "execute_result"
    }
   ],
   "source": [
    "# c.execute('''CREATE TABLE PARASTASEIS (ID int, titlos text, eidos text, etos_suggrafhs date, skhnh text, suggrafeas text, metafrash text, skhnothesia text, etos_parastasewn text)''')"
   ]
  },
  {
   "cell_type": "code",
   "execution_count": 45,
   "metadata": {},
   "outputs": [],
   "source": [
    "# c.execute('''DROP TABLE PARASTASEIS ''')\n",
    "c.close()"
   ]
  },
  {
   "cell_type": "code",
   "execution_count": 12,
   "metadata": {},
   "outputs": [],
   "source": [
    "# import pandas as pd\n",
    "# proswpa = pd.read_csv('Proswpa.csv')\n",
    "# proswpa.to_sql('Proswpa', conn, if_exists='append', index = False)"
   ]
  },
  {
   "cell_type": "code",
   "execution_count": 9,
   "metadata": {},
   "outputs": [
    {
     "ename": "OperationalError",
     "evalue": "no such table: Proswpa",
     "output_type": "error",
     "traceback": [
      "\u001b[1;31m---------------------------------------------------------------------------\u001b[0m",
      "\u001b[1;31mOperationalError\u001b[0m                          Traceback (most recent call last)",
      "\u001b[1;32m~\\AppData\\Local\\Temp\\ipykernel_2776\\3100081690.py\u001b[0m in \u001b[0;36m<module>\u001b[1;34m\u001b[0m\n\u001b[1;32m----> 1\u001b[1;33m \u001b[0mc\u001b[0m\u001b[1;33m.\u001b[0m\u001b[0mexecute\u001b[0m\u001b[1;33m(\u001b[0m\u001b[1;34m'''DROP TABLE Proswpa '''\u001b[0m\u001b[1;33m)\u001b[0m\u001b[1;33m\u001b[0m\u001b[1;33m\u001b[0m\u001b[0m\n\u001b[0m",
      "\u001b[1;31mOperationalError\u001b[0m: no such table: Proswpa"
     ]
    }
   ],
   "source": [
    "# c.execute('''DROP TABLE Proswpa ''')"
   ]
  },
  {
   "cell_type": "code",
   "execution_count": 29,
   "metadata": {},
   "outputs": [
    {
     "name": "stdout",
     "output_type": "stream",
     "text": [
      "Requirement already satisfied: pandas in c:\\users\\melet\\miniconda3\\envs\\rasaenv\\lib\\site-packages (1.3.5)\n",
      "Requirement already satisfied: numpy>=1.17.3 in c:\\users\\melet\\miniconda3\\envs\\rasaenv\\lib\\site-packages (from pandas) (1.19.5)\n",
      "Requirement already satisfied: pytz>=2017.3 in c:\\users\\melet\\miniconda3\\envs\\rasaenv\\lib\\site-packages (from pandas) (2021.3)\n",
      "Requirement already satisfied: python-dateutil>=2.7.3 in c:\\users\\melet\\miniconda3\\envs\\rasaenv\\lib\\site-packages (from pandas) (2.8.2)\n",
      "Requirement already satisfied: six>=1.5 in c:\\users\\melet\\miniconda3\\envs\\rasaenv\\lib\\site-packages (from python-dateutil>=2.7.3->pandas) (1.16.0)\n"
     ]
    }
   ],
   "source": [
    "# import sys \n",
    "# !{sys.executable} -m pip install pandas "
   ]
  },
  {
   "cell_type": "code",
   "execution_count": 10,
   "metadata": {},
   "outputs": [],
   "source": [
    "# import pandas as pd\n",
    "# parastaseis = pd.read_csv('parastaseis.csv')\n",
    "# parastaseis.to_sql('parastaseis', conn, if_exists='append', index = False)"
   ]
  },
  {
   "cell_type": "code",
   "execution_count": 2,
   "metadata": {},
   "outputs": [],
   "source": [
    "import sqlite3\n",
    "import random"
   ]
  },
  {
   "cell_type": "code",
   "execution_count": 17,
   "metadata": {},
   "outputs": [],
   "source": [
    "# add .csv to sqlite table\n",
    "import pandas as pd \n",
    "import sqlite3\n",
    "\n",
    "conn = sqlite3.connect(\"theatre.sqlite\")\n",
    "c = conn.cursor()\n",
    "# c.execute('''DROP TABLE Proswpa ''')\n",
    "# c.execute('''DROP TABLE parastaseis ''')\n",
    "# c.execute('''select * from parastaseis ''')\n",
    "parastaseis = pd.read_csv(\"theatre_db/parastaseisUp.csv\", sep=',')\n",
    "parastaseis.to_sql(\"parastaseis\", conn, if_exists='append', index=False)\n",
    "c.close()\n"
   ]
  },
  {
   "cell_type": "code",
   "execution_count": 16,
   "metadata": {},
   "outputs": [],
   "source": [
    "# add .csv to sqlite table\n",
    "import pandas as pd \n",
    "import sqlite3\n",
    "\n",
    "conn = sqlite3.connect(\"theatre.sqlite\")\n",
    "c = conn.cursor()\n",
    "# c.execute('''DROP TABLE Proswpa ''')\n",
    "proswpa = pd.read_csv(\"theatre_db/ProswpaUp.csv\", sep=',')\n",
    "proswpa.to_sql(\"proswpa\", conn, if_exists='append', index=False)\n",
    "c.close()"
   ]
  },
  {
   "cell_type": "code",
   "execution_count": 4,
   "metadata": {},
   "outputs": [
    {
     "name": "stdout",
     "output_type": "stream",
     "text": [
      "\n",
      "\tΚωδικός Παράστασης:8,\n",
      "\tΌνομα Παράστασης: Αυτό που δεν τελειώνει: Ελληνική ποίηση του 20ού αιώνα,\n",
      "\tΕίδος: Ελληνική ποιηση,\n",
      "\tΕτος συγγραφής: -,\n",
      "\tΣκηνή: Πειραματική Σκηνή ,\n",
      "\tΣυγγραφέας: -,\n",
      "\tΜετάφραση:Στάθης Λιβαθινός,\n",
      "\tΣκηνοθεσία:-,\n",
      "\tΈτος Παραστάσεων: 2003\n",
      "\n",
      "\n",
      "\n",
      "\n",
      "\tΚωδικός Παράστασης:12,\n",
      "\tΌνομα Παράστασης: Μπάαλ,\n",
      "\tΕίδος: Γερμανικό Θέατρο ,\n",
      "\tΕτος συγγραφής: 1918,\n",
      "\tΣκηνή: Πειραματική Σκηνή,\n",
      "\tΣυγγραφέας: Μπέρτολτ Μπρεχτ,\n",
      "\tΜετάφραση:Πέτρος Μάρκαρης,\n",
      "\tΣκηνοθεσία:Γιάννης Παρασκευόπουλος,\n",
      "\tΈτος Παραστάσεων: 2003\n",
      "\n",
      "\n",
      "\n",
      "\n",
      "\tΚωδικός Παράστασης:13,\n",
      "\tΌνομα Παράστασης: Το παλτό,\n",
      "\tΕίδος: Δραματοποιημένη Λογοτεχνία,\n",
      "\tΕτος συγγραφής: 1842,\n",
      "\tΣκηνή: Πειραματική Σκηνή,\n",
      "\tΣυγγραφέας: Νικολάι Βασίλιεβιτς Γκόγκολ,\n",
      "\tΜετάφραση:Λεωνίδας Καρατζάς,\n",
      "\tΣκηνοθεσία:Νίνα Τσούσοβα,\n",
      "\tΈτος Παραστάσεων: 2003\n",
      "\n",
      "\n",
      "\n",
      "\n",
      "\tΚωδικός Παράστασης:17,\n",
      "\tΌνομα Παράστασης: Η τρελή του Σαγιώ,\n",
      "\tΕίδος: Γαλλικό Θέατρο ,\n",
      "\tΕτος συγγραφής: 1945,\n",
      "\tΣκηνή: Κεντρική Σκηνή,\n",
      "\tΣυγγραφέας: Ζαν Ζιρωντού,\n",
      "\tΜετάφραση:Γιάννης Γ. Ιορδανίδης,\n",
      "\tΣκηνοθεσία:Κοραής Δαμάτης,\n",
      "\tΈτος Παραστάσεων: 2003\n",
      "\n",
      "\n",
      "\n",
      "\n",
      "\tΚωδικός Παράστασης:18,\n",
      "\tΌνομα Παράστασης: Το φάντασμα του κυρίου Ραμόν Νοβάρο,\n",
      "\tΕίδος: Νεοελληνικό Θέατρο ,\n",
      "\tΕτος συγγραφής: 1973,\n",
      "\tΣκηνή: Κεντρική Σκηνή,\n",
      "\tΣυγγραφέας: Παύλος Μάτεσις,\n",
      "\tΜετάφραση:-,\n",
      "\tΣκηνοθεσία:Διαγόρας Χρονόπουλος,\n",
      "\tΈτος Παραστάσεων: 2003\n",
      "\n",
      "\n",
      "\n",
      "\n",
      "\tΚωδικός Παράστασης:21,\n",
      "\tΌνομα Παράστασης: Ίων,\n",
      "\tΕίδος: Αρχαίο δράμα ,\n",
      "\tΕτος συγγραφής: 418 π.Χ,\n",
      "\tΣκηνή: Κεντρική Σκηνή,\n",
      "\tΣυγγραφέας: Ευριπίδης,\n",
      "\tΜετάφραση:Νικολέττα Φριντζήλα,\n",
      "\tΣκηνοθεσία:Λυδία Κονιόρδου,\n",
      "\tΈτος Παραστάσεων: 2003\n",
      "\n",
      "\n",
      "\n",
      "\n",
      "\tΚωδικός Παράστασης:22,\n",
      "\tΌνομα Παράστασης: Μήδεια,\n",
      "\tΕίδος: Αρχαίο δράμα ,\n",
      "\tΕτος συγγραφής: 431 π.Χ,\n",
      "\tΣκηνή: Κεντρική Σκηνή,\n",
      "\tΣυγγραφέας: Ευριπίδης,\n",
      "\tΜετάφραση:Στρατής Πασχάλης,\n",
      "\tΣκηνοθεσία:Στάθης Λιβαθινός,\n",
      "\tΈτος Παραστάσεων: 2003\n",
      "\n",
      "\n",
      "\n",
      "\n",
      "\tΚωδικός Παράστασης:23,\n",
      "\tΌνομα Παράστασης: Βιομαγεία,\n",
      "\tΕίδος: Νεοελληνικό Θέατρο ,\n",
      "\tΕτος συγγραφής: 2004,\n",
      "\tΣκηνή: Πειραματική Σκηνή,\n",
      "\tΣυγγραφέας: Μαριάννα Κάλμπαρη,\n",
      "\tΜετάφραση:-,\n",
      "\tΣκηνοθεσία:Δημήτρης Λιγνάδης,\n",
      "\tΈτος Παραστάσεων: 2003\n",
      "\n",
      "\n",
      "\n",
      "\n",
      "\tΚωδικός Παράστασης:25,\n",
      "\tΌνομα Παράστασης: Το δώρο της Μέδουσας,\n",
      "\tΕίδος: Αγγλικό Θέατρο ,\n",
      "\tΕτος συγγραφής: 1992,\n",
      "\tΣκηνή: Κεντρική Σκηνή,\n",
      "\tΣυγγραφέας: Πήτερ Λέβιν Σάφερ,\n",
      "\tΜετάφραση:Στρατής Πασχάλης,\n",
      "\tΣκηνοθεσία:Γιώργος Θεοδοσιάδης,\n",
      "\tΈτος Παραστάσεων: 2003\n",
      "\n",
      "\n",
      "\n",
      "\n",
      "\tΚωδικός Παράστασης:27,\n",
      "\tΌνομα Παράστασης: Κατά λάθος πρόβες,\n",
      "\tΕίδος: Γαλλικό Θέατρο ,\n",
      "\tΕτος συγγραφής: 1663,\n",
      "\tΣκηνή: Πειραματική Σκηνή ,\n",
      "\tΣυγγραφέας: Μολιέρος (Ποκλέν, Ζαν-Μπατίστ),\n",
      "\tΜετάφραση:Λουίζα Μητσάκου,\n",
      "\tΣκηνοθεσία:Βασίλης Παπαβασιλείου,\n",
      "\tΈτος Παραστάσεων: 2003\n",
      "\n",
      "\n",
      "\n",
      "\n",
      "\tΚωδικός Παράστασης:32,\n",
      "\tΌνομα Παράστασης: Η τέταρτη αδελφή,\n",
      "\tΕίδος: Πολωνικό Θέατρο ,\n",
      "\tΕτος συγγραφής: 2000,\n",
      "\tΣκηνή: Κεντρική Σκηνή,\n",
      "\tΣυγγραφέας: Γιάνους Γκλοβάτσκι,\n",
      "\tΜετάφραση:Γκάγκα Ρόσιτς,\n",
      "\tΣκηνοθεσία:Σλόμπονταν Ουνκόφσκι,\n",
      "\tΈτος Παραστάσεων: 2003\n",
      "\n",
      "\n",
      "\n"
     ]
    }
   ],
   "source": [
    "def create_connection(db_file):\n",
    "    \"\"\" create a database connection to the SQLite database\n",
    "        specified by the db_file\n",
    "    :param db_file: database file\n",
    "    :return: Connection object or None\n",
    "    \"\"\"\n",
    "    conn = None\n",
    "    try:\n",
    "        conn = sqlite3.connect(db_file)\n",
    "    except Error as e:\n",
    "        print(e)\n",
    "\n",
    "    return conn\n",
    "\n",
    "def select_by_slot_parastaseis(conn, slot_name, slot_value):\n",
    "    \"\"\"\n",
    "    Query all rows in the tasks table\n",
    "    :param conn: the Connection object\n",
    "    :return:\n",
    "    \"\"\"\n",
    "    cur = conn.cursor()\n",
    "    cur.execute(f\"\"\"SELECT * FROM parastaseis\n",
    "                WHERE {slot_name}='{slot_value}'\"\"\")\n",
    "\n",
    "    rows = cur.fetchall()\n",
    "\n",
    "    if len(list(rows)) < 1:\n",
    "        print(\"There are no resources matching your query.\")\n",
    "    else:\n",
    "        for row in rows:\n",
    "            print(f\"\\n\\tΚωδικός Παράστασης:{row[0]},\\n\\tΌνομα Παράστασης: {row[1]},\\n\\tΕίδος: {row[2]},\\n\\tΕτος συγγραφής: {row[3]},\\n\\tΣκηνή: {row[4]},\\n\\tΣυγγραφέας: {row[5]},\\n\\tΜετάφραση:{row[6]},\\n\\tΣκηνοθεσία:{row[7]},\\n\\tΈτος Παραστάσεων: {row[8]}\\n\\n\\n\")\n",
    "\n",
    "def select_by_slot_proswpa(conn, slot_name, slot_value):\n",
    "    \"\"\"\n",
    "    Query all rows in the tasks table\n",
    "    :param conn: the Connection object\n",
    "    :return:\n",
    "    \"\"\"\n",
    "    cur = conn.cursor()\n",
    "    cur.execute(f\"\"\"SELECT * FROM proswpa\n",
    "                WHERE {slot_name}='{slot_value}'\"\"\")\n",
    "\n",
    "    rows = cur.fetchall()\n",
    "\n",
    "    if len(list(rows)) < 1:\n",
    "        print(\"There are no resources matching your query.\")\n",
    "    else:\n",
    "        for row in rows:\n",
    "            print(f\"\\n\\tID:{row[0]},\\n\\tΟνοματεπώνυμο: {row[1]},\\n\\tΙδιότητα: {row[2]},\\n\\tΗμερομηνία Γέννησης: {row[3]},\\n\\tΗμερομηνία Θανάτου: {row[4]},\\n\\tIDParastasewn που έχει λάβει μέρος: {row[5]}\")\n",
    "\n",
    "\n",
    "# select_by_slot_proswpa(create_connection(\"theatre.sqlite\"),\n",
    "#     slot_name=\"Ονοματεπώνυμο\",slot_value=\"Γουίλιαμ Σαίξπηρ\") \n",
    "\n",
    "select_by_slot_parastaseis(create_connection(\"theatre.sqlite\"),\n",
    "    slot_name=\"year_played\",slot_value=2003) "
   ]
  }
 ],
 "metadata": {
  "kernelspec": {
   "display_name": "Python 3.7.13 ('rasaEnv')",
   "language": "python",
   "name": "python3"
  },
  "language_info": {
   "codemirror_mode": {
    "name": "ipython",
    "version": 3
   },
   "file_extension": ".py",
   "mimetype": "text/x-python",
   "name": "python",
   "nbconvert_exporter": "python",
   "pygments_lexer": "ipython3",
   "version": "3.7.13"
  },
  "orig_nbformat": 4,
  "vscode": {
   "interpreter": {
    "hash": "933493791cb1cb8418458d0ffaf276c4da2623623bfe50bc4c43cca4c3a85674"
   }
  }
 },
 "nbformat": 4,
 "nbformat_minor": 2
}
